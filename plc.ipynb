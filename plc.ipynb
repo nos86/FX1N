{
 "cells": [
  {
   "cell_type": "code",
   "execution_count": null,
   "metadata": {},
   "outputs": [],
   "source": [
    "from typing import Optional, Dict\n",
    "from colorama import Fore, Back, Style\n",
    "import logging\n",
    "import sys\n",
    "\n",
    "class ColoredFormatter(logging.Formatter):\n",
    "    def __init__(self, *args, colors: Optional[Dict[str, str]]=None, **kwargs):\n",
    "        kwargs['style'] = '{'\n",
    "        if (len(args) == 0) and ('fmt' not in kwargs.keys()):\n",
    "            kwargs['fmt'] = '{color}[{levelname:8}]{reset} {name}: {message}'\n",
    "        super().__init__(*args, **kwargs)\n",
    "        self.colors = colors={'DEBUG': Fore.CYAN, \n",
    "                            'INFO': Fore.GREEN, \n",
    "                            'WARNING': Fore.YELLOW, \n",
    "                            'ERROR': Fore.RED, \n",
    "                            'CRITICAL': Fore.RED + Back.WHITE + Style.BRIGHT}\n",
    "\n",
    "\n",
    "    def format(self, record) -> str:\n",
    "        record.color = self.colors.get(record.levelname, '')\n",
    "        record.reset = Style.RESET_ALL\n",
    "        return super().format(record)\n",
    "\n",
    "\n",
    "def getJupyterHandler():\n",
    "    formatter = ColoredFormatter()\n",
    "    handler = logging.StreamHandler(sys.stdout)\n",
    "    handler.setFormatter(formatter)\n",
    "    return handler\n",
    "\n",
    "logging.basicConfig(level=logging.DEBUG, handlers=[getJupyterHandler()])"
   ]
  },
  {
   "cell_type": "code",
   "execution_count": null,
   "metadata": {},
   "outputs": [],
   "source": [
    "import Mitsubishi.FX1N as ctrl"
   ]
  },
  {
   "cell_type": "code",
   "execution_count": null,
   "metadata": {},
   "outputs": [],
   "source": [
    "plc = ctrl.FX1N(port='/tmp/ttyACM0', logging_level=logging.DEBUG)\n",
    "monitor = plc.monitor_batch[0]\n",
    "monitor.addRegisterToMonitor(\"D3\")\n",
    "monitor.startMonitor()\n",
    "print(monitor.getValueFromMonitor())\n",
    "monitor.stopMonitor()"
   ]
  }
 ],
 "metadata": {
  "kernelspec": {
   "display_name": "Python 3",
   "language": "python",
   "name": "python3"
  },
  "language_info": {
   "codemirror_mode": {
    "name": "ipython",
    "version": 3
   },
   "file_extension": ".py",
   "mimetype": "text/x-python",
   "name": "python",
   "nbconvert_exporter": "python",
   "pygments_lexer": "ipython3",
   "version": "3.7.4"
  }
 },
 "nbformat": 4,
 "nbformat_minor": 4
}
